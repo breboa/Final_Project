{
 "cells": [
  {
   "cell_type": "code",
   "execution_count": 12,
   "metadata": {},
   "outputs": [],
   "source": [
    "# import libraries\n",
    "import time\n",
    "import pandas as pd \n",
    "import re\n",
    "import pickle \n",
    "\n",
    "import csv\n",
    "from selenium import webdriver\n",
    "from selenium.webdriver.support.ui import WebDriverWait\n",
    "from selenium.webdriver.support import expected_conditions as EC\n",
    "from selenium.webdriver.common.by import By\n",
    "from selenium.common.exceptions import TimeoutException\n",
    "from selenium.webdriver.chrome.options import Options\n",
    "from selenium.webdriver.common.keys import Keys\n",
    "from selenium.common.exceptions import NoSuchElementException\n",
    "from bs4 import BeautifulSoup as BS\n",
    "\n",
    "import time "
   ]
  },
  {
   "cell_type": "code",
   "execution_count": 13,
   "metadata": {},
   "outputs": [],
   "source": [
    "#disable Sephora notification\n",
    "option = Options()\n",
    "option.add_argument(\"--disable-infobars\")\n",
    "option.add_argument(\"start-maximized\")\n",
    "option.add_argument(\"--disable-extensions\")\n",
    "\n",
    "# Pass the argument 1 to allow and 2 to block\n",
    "option.add_experimental_option(\"prefs\", {\"profile.default_content_setting_values.notifications\": 2})\n",
    "    \n",
    "chrome_path = \"/Users/bridget/Flatiron/nyc-mhtn-ds-060319-lectures/chromedriver\""
   ]
  },
  {
   "cell_type": "code",
   "execution_count": 14,
   "metadata": {},
   "outputs": [],
   "source": [
    "def scrollDown(driver, num_scroll):\n",
    "    body = driver.find_element_by_tag_name(\"body\")\n",
    "    while num_scroll >= 0:\n",
    "        body.send_keys(Keys.PAGE_DOWN)\n",
    "        num_scroll -= 1\n",
    "    return driver"
   ]
  },
  {
   "cell_type": "code",
   "execution_count": 27,
   "metadata": {},
   "outputs": [
    {
     "name": "stderr",
     "output_type": "stream",
     "text": [
      "/Users/bridget/anaconda3/lib/python3.7/site-packages/ipykernel_launcher.py:2: DeprecationWarning: use options instead of chrome_options\n",
      "  \n"
     ]
    }
   ],
   "source": [
    "url = \"https://www.sephora.com/shop/foundation-makeup?pageSize=300\"\n",
    "driver = webdriver.Chrome(chrome_options=option, executable_path=chrome_path)\n",
    "driver.get(url)\n",
    "\n",
    "#close signup notification \n",
    "driver.find_element_by_class_name('css-fslzaf').click()\n"
   ]
  },
  {
   "cell_type": "code",
   "execution_count": 21,
   "metadata": {},
   "outputs": [],
   "source": [
    "# initiate empty dataframe\n",
    "\n",
    "scrollDown(driver, 10)\n",
    "time.sleep(5)\n",
    "\n",
    "scrollDown(driver, 10)\n",
    "time.sleep(5)\n",
    "\n",
    "scrollDown(driver, 10)\n",
    "time.sleep(5)\n",
    "\n",
    "scrollDown(driver, 10)\n",
    "\n",
    "elements = driver.find_elements_by_class_name(\"css-ix8km1\")\n",
    "\n",
    "URL = []\n",
    "for i in range(len(elements)):\n",
    "    URL.append(elements[i].get_attribute('href'))"
   ]
  },
  {
   "cell_type": "code",
   "execution_count": 34,
   "metadata": {},
   "outputs": [],
   "source": [
    "#pickle URLs to reuse in reviews scraper \n",
    "links_pickle = open(\"URL.pickle\",'wb') \n",
    "pickle.dump(URL, links_pickle)   \n",
    "links_pickle.close()"
   ]
  },
  {
   "cell_type": "code",
   "execution_count": 44,
   "metadata": {},
   "outputs": [],
   "source": [
    "df = pd.DataFrame(columns=['URL', 'brand', 'name', 'price', 'num_reviews', 'rating'])\n",
    "df['URL'] = URL"
   ]
  },
  {
   "cell_type": "code",
   "execution_count": 45,
   "metadata": {},
   "outputs": [],
   "source": [
    "df_experiment = df[0:2]"
   ]
  },
  {
   "cell_type": "code",
   "execution_count": 1,
   "metadata": {},
   "outputs": [
    {
     "ename": "NameError",
     "evalue": "name 'df_experiment' is not defined",
     "output_type": "error",
     "traceback": [
      "\u001b[0;31m---------------------------------------------------------------------------\u001b[0m",
      "\u001b[0;31mNameError\u001b[0m                                 Traceback (most recent call last)",
      "\u001b[0;32m<ipython-input-1-9a23ace34d5d>\u001b[0m in \u001b[0;36m<module>\u001b[0;34m\u001b[0m\n\u001b[0;32m----> 1\u001b[0;31m \u001b[0;32mfor\u001b[0m \u001b[0mi\u001b[0m \u001b[0;32min\u001b[0m \u001b[0mrange\u001b[0m\u001b[0;34m(\u001b[0m\u001b[0mlen\u001b[0m\u001b[0;34m(\u001b[0m\u001b[0mdf_experiment\u001b[0m\u001b[0;34m)\u001b[0m\u001b[0;34m)\u001b[0m\u001b[0;34m:\u001b[0m\u001b[0;34m\u001b[0m\u001b[0;34m\u001b[0m\u001b[0m\n\u001b[0m\u001b[1;32m      2\u001b[0m     \u001b[0murl\u001b[0m \u001b[0;34m=\u001b[0m \u001b[0mdf_experiment\u001b[0m\u001b[0;34m.\u001b[0m\u001b[0mURL\u001b[0m\u001b[0;34m[\u001b[0m\u001b[0mi\u001b[0m\u001b[0;34m]\u001b[0m\u001b[0;34m\u001b[0m\u001b[0;34m\u001b[0m\u001b[0m\n\u001b[1;32m      3\u001b[0m     \u001b[0mprint\u001b[0m\u001b[0;34m(\u001b[0m\u001b[0;34m'navigating to:'\u001b[0m \u001b[0;34m+\u001b[0m \u001b[0murl\u001b[0m\u001b[0;34m)\u001b[0m\u001b[0;34m\u001b[0m\u001b[0;34m\u001b[0m\u001b[0m\n\u001b[1;32m      4\u001b[0m     \u001b[0mdriver\u001b[0m\u001b[0;34m.\u001b[0m\u001b[0mget\u001b[0m\u001b[0;34m(\u001b[0m\u001b[0murl\u001b[0m\u001b[0;34m)\u001b[0m\u001b[0;34m\u001b[0m\u001b[0;34m\u001b[0m\u001b[0m\n\u001b[1;32m      5\u001b[0m     \u001b[0mtime\u001b[0m\u001b[0;34m.\u001b[0m\u001b[0msleep\u001b[0m\u001b[0;34m(\u001b[0m\u001b[0;36m5\u001b[0m\u001b[0;34m)\u001b[0m\u001b[0;34m\u001b[0m\u001b[0;34m\u001b[0m\u001b[0m\n",
      "\u001b[0;31mNameError\u001b[0m: name 'df_experiment' is not defined"
     ]
    }
   ],
   "source": [
    "for i in range(len(df_experiment)):\n",
    "    url = df_experiment.URL[i]\n",
    "    print('navigating to:' + url)\n",
    "    driver.get(url)\n",
    "    time.sleep(5)\n",
    "\n",
    "    df_experiment.brand[i] = driver.find_element_by_class_name('css-euydo4').text \n",
    "    df_experiment.name[i] = driver.find_element_by_class_name('css-0').text\n",
    "    df_experiment.price[i] = driver.find_element_by_class_name('css-14hdny6').text\n",
    "\n",
    "    scrollDown(driver, 1)\n",
    "    time.sleep(10)\n",
    "    \n",
    "    scrollDown(driver, 1)\n",
    "    time.sleep(10)\n",
    "\n",
    "#     #num_reviews \n",
    "#     try:\n",
    "#         print('exa')\n",
    "#         num_reviews = driver.find_element_by_tag_name('table')\n",
    "#         print(f'nr: {num_reviews.text}')\n",
    "#         df_experiment.num_reviews[i] = 0\n",
    "# #         num_reviews = re.match('\\d+', num_reviews).group()\n",
    "# #         df_experiment.num_reviews[i] = int(num_reviews)\n",
    "#     except NoSuchElementException:\n",
    "#         df_experiment.num_reviews[i] = 0                                                \n",
    "\n",
    "#     #rating \n",
    "#     try:\n",
    "#         rating = driver.find_element_by_class_name('css-1eqyf5').text\n",
    "#         rating = re.match('\\d.\\d', rating).group\n",
    "#         df_experiment.rating[i] = float(rating)\n",
    "#     except NoSuchElementException:\n",
    "#         df_experiment.rating[i] = 0\n",
    "        \n",
    "#     #recommend\n",
    "#     try:\n",
    "#         df_experiment.recommend[i] = driver.find_element_by_class_name('css-cao13b').text\n",
    "#     except NoSuchElementException:\n",
    "#         df_experiment.recommend[i] = 0\n",
    "#\n",
    "print(i)  "
   ]
  },
  {
   "cell_type": "code",
   "execution_count": 40,
   "metadata": {},
   "outputs": [
    {
     "data": {
      "text/html": [
       "<div>\n",
       "<style scoped>\n",
       "    .dataframe tbody tr th:only-of-type {\n",
       "        vertical-align: middle;\n",
       "    }\n",
       "\n",
       "    .dataframe tbody tr th {\n",
       "        vertical-align: top;\n",
       "    }\n",
       "\n",
       "    .dataframe thead th {\n",
       "        text-align: right;\n",
       "    }\n",
       "</style>\n",
       "<table border=\"1\" class=\"dataframe\">\n",
       "  <thead>\n",
       "    <tr style=\"text-align: right;\">\n",
       "      <th></th>\n",
       "      <th>URL</th>\n",
       "      <th>brand</th>\n",
       "      <th>name</th>\n",
       "      <th>price</th>\n",
       "      <th>num_reviews</th>\n",
       "      <th>rating</th>\n",
       "      <th>recommend</th>\n",
       "    </tr>\n",
       "  </thead>\n",
       "  <tbody>\n",
       "    <tr>\n",
       "      <th>0</th>\n",
       "      <td>https://www.sephora.com/product/luminous-silk-...</td>\n",
       "      <td>GIORGIO ARMANI BEAUTY</td>\n",
       "      <td></td>\n",
       "      <td>$64.00</td>\n",
       "      <td>0</td>\n",
       "      <td>0</td>\n",
       "      <td>0</td>\n",
       "    </tr>\n",
       "    <tr>\n",
       "      <th>1</th>\n",
       "      <td>https://www.sephora.com/product/double-wear-st...</td>\n",
       "      <td>ESTÉE LAUDER</td>\n",
       "      <td></td>\n",
       "      <td>$43.00</td>\n",
       "      <td>0</td>\n",
       "      <td>0</td>\n",
       "      <td>0</td>\n",
       "    </tr>\n",
       "  </tbody>\n",
       "</table>\n",
       "</div>"
      ],
      "text/plain": [
       "                                                 URL                  brand  \\\n",
       "0  https://www.sephora.com/product/luminous-silk-...  GIORGIO ARMANI BEAUTY   \n",
       "1  https://www.sephora.com/product/double-wear-st...           ESTÉE LAUDER   \n",
       "\n",
       "  name   price num_reviews rating recommend  \n",
       "0       $64.00           0      0         0  \n",
       "1       $43.00           0      0         0  "
      ]
     },
     "execution_count": 40,
     "metadata": {},
     "output_type": "execute_result"
    }
   ],
   "source": [
    "df_experiment"
   ]
  },
  {
   "cell_type": "code",
   "execution_count": null,
   "metadata": {},
   "outputs": [],
   "source": [
    "df.to_csv('data/foundation.csv', encoding = 'utf-8-sig', index = False)"
   ]
  }
 ],
 "metadata": {
  "kernelspec": {
   "display_name": "Python 3",
   "language": "python",
   "name": "python3"
  },
  "language_info": {
   "codemirror_mode": {
    "name": "ipython",
    "version": 3
   },
   "file_extension": ".py",
   "mimetype": "text/x-python",
   "name": "python",
   "nbconvert_exporter": "python",
   "pygments_lexer": "ipython3",
   "version": "3.7.3"
  }
 },
 "nbformat": 4,
 "nbformat_minor": 2
}
