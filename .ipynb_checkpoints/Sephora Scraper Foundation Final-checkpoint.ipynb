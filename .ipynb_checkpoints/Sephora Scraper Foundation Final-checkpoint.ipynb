{
 "cells": [
  {
   "cell_type": "code",
   "execution_count": 30,
   "metadata": {},
   "outputs": [],
   "source": [
    "# import libraries\n",
    "import time\n",
    "import pandas as pd \n",
    "import re\n",
    "import pickle \n",
    "import warnings\n",
    "import csv\n",
    "from selenium import webdriver\n",
    "from selenium.webdriver.chrome.options import Options\n",
    "from selenium.webdriver.common.keys import Keys\n",
    "from selenium.common.exceptions import NoSuchElementException"
   ]
  },
  {
   "cell_type": "code",
   "execution_count": 3,
   "metadata": {},
   "outputs": [],
   "source": [
    "#disable Sephora notification\n",
    "option = Options()\n",
    "option.add_argument(\"--disable-infobars\")\n",
    "option.add_argument(\"start-maximized\")\n",
    "option.add_argument(\"--disable-extensions\")\n",
    "\n",
    "# Pass the argument 1 to allow and 2 to block\n",
    "option.add_experimental_option(\"prefs\", {\"profile.default_content_setting_values.notifications\": 2})\n",
    "    \n",
    "chrome_path = \"/Users/bridget/Flatiron/nyc-mhtn-ds-060319-lectures/chromedriver\""
   ]
  },
  {
   "cell_type": "code",
   "execution_count": 4,
   "metadata": {},
   "outputs": [],
   "source": [
    "def scrollDown(driver, num_scroll):\n",
    "    body = driver.find_element_by_tag_name(\"body\")\n",
    "    while num_scroll >= 0:\n",
    "        body.send_keys(Keys.PAGE_DOWN)\n",
    "        num_scroll -= 1\n",
    "    return driver"
   ]
  },
  {
   "cell_type": "code",
   "execution_count": 7,
   "metadata": {},
   "outputs": [
    {
     "name": "stderr",
     "output_type": "stream",
     "text": [
      "/Users/bridget/anaconda3/lib/python3.7/site-packages/ipykernel_launcher.py:2: DeprecationWarning: use options instead of chrome_options\n",
      "  \n"
     ]
    }
   ],
   "source": [
    "url = \"https://www.sephora.com/shop/foundation-makeup?pageSize=300\"\n",
    "driver = webdriver.Chrome(chrome_options=option, executable_path=chrome_path)\n",
    "driver.get(url)\n",
    "\n",
    "#close signup notification \n",
    "driver.find_element_by_class_name('css-fslzaf').click()\n"
   ]
  },
  {
   "cell_type": "code",
   "execution_count": 8,
   "metadata": {},
   "outputs": [],
   "source": [
    "# initiate empty dataframe\n",
    "\n",
    "scrollDown(driver, 10)\n",
    "time.sleep(5)\n",
    "\n",
    "scrollDown(driver, 10)\n",
    "time.sleep(5)\n",
    "\n",
    "scrollDown(driver, 10)\n",
    "time.sleep(5)\n",
    "\n",
    "scrollDown(driver, 10)\n",
    "time.sleep(5)\n",
    "\n",
    "scrollDown(driver, 10)\n",
    "time.sleep(5)\n",
    "\n",
    "scrollDown(driver, 10)\n",
    "time.sleep(5)\n",
    "\n",
    "scrollDown(driver, 10)\n",
    "time.sleep(5)\n",
    "\n",
    "scrollDown(driver, 10)\n",
    "time.sleep(5)\n",
    "\n",
    "elements = driver.find_elements_by_class_name(\"css-ix8km1\")\n",
    "\n",
    "URL = []\n",
    "for i in range(len(elements)):\n",
    "    URL.append(elements[i].get_attribute('href'))"
   ]
  },
  {
   "cell_type": "code",
   "execution_count": 12,
   "metadata": {},
   "outputs": [],
   "source": [
    "#pickle URLs to reuse in reviews scraper \n",
    "links_pickle = open(\"URL.pickle\",'wb') \n",
    "pickle.dump(URL, links_pickle)   \n",
    "links_pickle.close()"
   ]
  },
  {
   "cell_type": "code",
   "execution_count": 21,
   "metadata": {},
   "outputs": [],
   "source": [
    "df = pd.DataFrame(columns=['URL', 'brand', 'name', 'price']) \n",
    "df['URL'] = URL"
   ]
  },
  {
   "cell_type": "code",
   "execution_count": 23,
   "metadata": {},
   "outputs": [
    {
     "data": {
      "text/plain": [
       "213"
      ]
     },
     "execution_count": 23,
     "metadata": {},
     "output_type": "execute_result"
    }
   ],
   "source": [
    "len(df)"
   ]
  },
  {
   "cell_type": "code",
   "execution_count": 24,
   "metadata": {},
   "outputs": [],
   "source": [
    "df_experiment = df[0:2]"
   ]
  },
  {
   "cell_type": "code",
   "execution_count": 35,
   "metadata": {},
   "outputs": [
    {
     "name": "stdout",
     "output_type": "stream",
     "text": [
      "navigating to:https://www.sephora.com/product/luminous-silk-foundation-P393401?icid2=products%20grid:p393401\n",
      "navigating to:https://www.sephora.com/product/double-wear-stay-in-place-makeup-P378284?icid2=products%20grid:p378284\n"
     ]
    }
   ],
   "source": [
    "for i in range(len(df_experiment)):\n",
    "    url = df_experiment.URL[i]\n",
    "    print('navigating to:' + url)\n",
    "    driver.get(url)\n",
    "\n",
    "    df_experiment.brand[i] = driver.find_element_by_class_name('css-euydo4').text\n",
    "    time.sleep(5)\n",
    "    \n",
    "    df_experiment.name[i] = driver.find_element_by_css_selector('span.css-0').text\n",
    "    time.sleep(5)\n",
    "\n",
    "    df_experiment.price[i] = driver.find_element_by_class_name('css-14hdny6').text "
   ]
  },
  {
   "cell_type": "code",
   "execution_count": 36,
   "metadata": {},
   "outputs": [
    {
     "data": {
      "text/html": [
       "<div>\n",
       "<style scoped>\n",
       "    .dataframe tbody tr th:only-of-type {\n",
       "        vertical-align: middle;\n",
       "    }\n",
       "\n",
       "    .dataframe tbody tr th {\n",
       "        vertical-align: top;\n",
       "    }\n",
       "\n",
       "    .dataframe thead th {\n",
       "        text-align: right;\n",
       "    }\n",
       "</style>\n",
       "<table border=\"1\" class=\"dataframe\">\n",
       "  <thead>\n",
       "    <tr style=\"text-align: right;\">\n",
       "      <th></th>\n",
       "      <th>URL</th>\n",
       "      <th>brand</th>\n",
       "      <th>name</th>\n",
       "      <th>price</th>\n",
       "    </tr>\n",
       "  </thead>\n",
       "  <tbody>\n",
       "    <tr>\n",
       "      <th>0</th>\n",
       "      <td>https://www.sephora.com/product/luminous-silk-...</td>\n",
       "      <td>GIORGIO ARMANI BEAUTY</td>\n",
       "      <td>Luminous Silk Foundation</td>\n",
       "      <td>$64.00</td>\n",
       "    </tr>\n",
       "    <tr>\n",
       "      <th>1</th>\n",
       "      <td>https://www.sephora.com/product/double-wear-st...</td>\n",
       "      <td>ESTÉE LAUDER</td>\n",
       "      <td>Double Wear Stay-in-Place Foundation</td>\n",
       "      <td>$43.00</td>\n",
       "    </tr>\n",
       "  </tbody>\n",
       "</table>\n",
       "</div>"
      ],
      "text/plain": [
       "                                                 URL                  brand  \\\n",
       "0  https://www.sephora.com/product/luminous-silk-...  GIORGIO ARMANI BEAUTY   \n",
       "1  https://www.sephora.com/product/double-wear-st...           ESTÉE LAUDER   \n",
       "\n",
       "                                   name   price  \n",
       "0              Luminous Silk Foundation  $64.00  \n",
       "1  Double Wear Stay-in-Place Foundation  $43.00  "
      ]
     },
     "execution_count": 36,
     "metadata": {},
     "output_type": "execute_result"
    }
   ],
   "source": [
    "df_experiment"
   ]
  },
  {
   "cell_type": "code",
   "execution_count": null,
   "metadata": {},
   "outputs": [],
   "source": [
    "df.to_csv('data/foundation.csv', encoding = 'utf-8-sig', index = False)"
   ]
  }
 ],
 "metadata": {
  "kernelspec": {
   "display_name": "Python 3",
   "language": "python",
   "name": "python3"
  },
  "language_info": {
   "codemirror_mode": {
    "name": "ipython",
    "version": 3
   },
   "file_extension": ".py",
   "mimetype": "text/x-python",
   "name": "python",
   "nbconvert_exporter": "python",
   "pygments_lexer": "ipython3",
   "version": "3.7.3"
  }
 },
 "nbformat": 4,
 "nbformat_minor": 2
}
